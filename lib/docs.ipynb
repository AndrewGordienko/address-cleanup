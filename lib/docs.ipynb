
# Address Lookup with `llama_cleanup.main.AddressLookup`

This notebook demonstrates how to use the `AddressLookup` class to retrieve city, state/province, latitude, and longitude based on address strings. It showcases both local and remote usage of models for address parsing.

---

### 1. Initializing the AddressLookup with LLaMA Model

We'll initialize the `AddressLookup` class using the 1B LLaMA model (`llama3.1`) and provide paths to Canadian postal codes and US ZIP codes. The lookup will then process an example address with a typo to demonstrate error handling.

```python
from llama_cleanup.main import AddressLookup

# Initialize the AddressLookup with the LLaMA 1B model
address_lookup = AddressLookup(
    canadian_postal_codes_path="CanadianPostalCodes202403.csv",
    us_zip_codes_path="USZIPCodes202409.csv",
    llama_model="llama3.1"  # Specify the 1B model version
)

# Perform the address lookup with a typo in 'Toronto'
result = address_lookup.lookup("789 Maple Dr., 2nd floor, Torono, Ontario, M5V3L5")

# Output the result
print(result)
```

---

### 2. Changing Model Version

You can change the model to a different version, such as the LLaMA 3.2 model (version 1B). However, note that higher model versions like `llama3.2` may be less accurate in some scenarios, depending on the model's training.

```python
# Using LLaMA 3.2 model (less accurate in some cases)
address_lookup = AddressLookup(
    canadian_postal_codes_path="CanadianPostalCodes202403.csv",
    us_zip_codes_path="USZIPCodes202409.csv",
    llama_model="llama3.2"  # Specify the 3.2 version here
)

# Perform the address lookup
result = address_lookup.lookup("789 Maple Dr., 2nd floor, Torono, Ontario, M5V3L5")
print(result)
```

> **Note**: Model performance may vary between versions. The 1B model has shown better performance for addresses with typos, while 3.2 may perform less optimally in this context.

---

### 3. Understanding the Paths and Parameters

The `AddressLookup` class requires the paths to two files:
- **Canadian Postal Codes CSV**: This CSV should contain city, province abbreviation, and postal code data for Canadian addresses.
- **US ZIP Codes CSV**: This CSV should contain city, state abbreviation, and ZIP code data for US addresses.

Both of these CSVs are passed as arguments during initialization, allowing the class to perform lookups for either Canadian or US addresses.

Parameters passed to the `lookup` method:
- **address (str)**: The full address string, including street, city, state/province, and postal code.

The `lookup` method processes the string, identifies the city and province/state, and returns a dictionary containing the city, full state name, latitude, and longitude.

---

### 4. Using Remote Models

The `AddressLookup` class can also be used with remote models, for example, when using a model hosted on a remote server like `gemma:2b`. 

Here’s an example of how to use a remote model for address lookup:

```python
# Example of using a remote model
address_lookup = AddressLookup(
    canadian_postal_codes_path="/path/to/CanadianPostalCodes202403.csv",
    us_zip_codes_path="/path/to/USZIPCodes202409.csv",
    llama_model="gemma:2b",  # The model on the remote server
    remote=True,  # Enable remote
    remote_api_base="https://api.remotemodel.com",  # Remote API base URL
    remote_api_key="your_api_key_here"  # Optional API key for authentication
)

# Perform the address lookup
result = address_lookup.lookup("456 Pine St New York, NY, USA")
print(result)
```

---

### 5. How to Download Required Files

- **Canadian Postal Codes CSV**: You can typically find these on official government postal services websites or other open-data portals.
- **US ZIP Codes CSV**: Available on various open-data portals or you can generate them using postal code APIs.

Make sure the file structure is correct with columns for `CITY`, `PROVINCE_ABBR`, `LATITUDE`, `LONGITUDE` (Canada) and `CITY`, `STATE`, `ZIPCODE`, `LATITUDE`, `LONGITUDE` (US).

---

### Summary

This notebook covers:
1. Initializing `AddressLookup` with a local model.
2. Changing between LLaMA model versions.
3. Understanding paths and parameters for address lookups.
4. Using the class with remote models and APIs.
5. Sources to download postal and ZIP code files.

You can now implement this in your address-based applications!

---
